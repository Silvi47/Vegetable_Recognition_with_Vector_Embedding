{
  "nbformat": 4,
  "nbformat_minor": 0,
  "metadata": {
    "colab": {
      "provenance": []
    },
    "kernelspec": {
      "name": "python3",
      "display_name": "Python 3"
    },
    "language_info": {
      "name": "python"
    },
    "accelerator": "GPU",
    "gpuClass": "standard",
    "widgets": {
      "application/vnd.jupyter.widget-state+json": {
        "0fc78ab409d143ae8251354f1ed806c9": {
          "model_module": "@jupyter-widgets/controls",
          "model_name": "HBoxModel",
          "model_module_version": "1.5.0",
          "state": {
            "_dom_classes": [],
            "_model_module": "@jupyter-widgets/controls",
            "_model_module_version": "1.5.0",
            "_model_name": "HBoxModel",
            "_view_count": null,
            "_view_module": "@jupyter-widgets/controls",
            "_view_module_version": "1.5.0",
            "_view_name": "HBoxView",
            "box_style": "",
            "children": [
              "IPY_MODEL_3bfa3819f77e42528c95ff7b4a12f8e0",
              "IPY_MODEL_3f3a4387d16f4541b7ac0b1cff1c3fd9",
              "IPY_MODEL_09b87d73c079422c96c46236ce988b27"
            ],
            "layout": "IPY_MODEL_b2aae3d88c9949ed8c50f931c0128fa2"
          }
        },
        "3bfa3819f77e42528c95ff7b4a12f8e0": {
          "model_module": "@jupyter-widgets/controls",
          "model_name": "HTMLModel",
          "model_module_version": "1.5.0",
          "state": {
            "_dom_classes": [],
            "_model_module": "@jupyter-widgets/controls",
            "_model_module_version": "1.5.0",
            "_model_name": "HTMLModel",
            "_view_count": null,
            "_view_module": "@jupyter-widgets/controls",
            "_view_module_version": "1.5.0",
            "_view_name": "HTMLView",
            "description": "",
            "description_tooltip": null,
            "layout": "IPY_MODEL_4f63db440c214ac880f765a85d31ad25",
            "placeholder": "​",
            "style": "IPY_MODEL_ef599236a19c4cd8a151089ff26bb2d3",
            "value": "100%"
          }
        },
        "3f3a4387d16f4541b7ac0b1cff1c3fd9": {
          "model_module": "@jupyter-widgets/controls",
          "model_name": "FloatProgressModel",
          "model_module_version": "1.5.0",
          "state": {
            "_dom_classes": [],
            "_model_module": "@jupyter-widgets/controls",
            "_model_module_version": "1.5.0",
            "_model_name": "FloatProgressModel",
            "_view_count": null,
            "_view_module": "@jupyter-widgets/controls",
            "_view_module_version": "1.5.0",
            "_view_name": "ProgressView",
            "bar_style": "success",
            "description": "",
            "description_tooltip": null,
            "layout": "IPY_MODEL_c02e8781a76e4c428b22bec99b151978",
            "max": 241627721,
            "min": 0,
            "orientation": "horizontal",
            "style": "IPY_MODEL_4632d6c5bcc74c4185fef666b1851165",
            "value": 241627721
          }
        },
        "09b87d73c079422c96c46236ce988b27": {
          "model_module": "@jupyter-widgets/controls",
          "model_name": "HTMLModel",
          "model_module_version": "1.5.0",
          "state": {
            "_dom_classes": [],
            "_model_module": "@jupyter-widgets/controls",
            "_model_module_version": "1.5.0",
            "_model_name": "HTMLModel",
            "_view_count": null,
            "_view_module": "@jupyter-widgets/controls",
            "_view_module_version": "1.5.0",
            "_view_name": "HTMLView",
            "description": "",
            "description_tooltip": null,
            "layout": "IPY_MODEL_dc04d32629ad4b618aedee7a924054f9",
            "placeholder": "​",
            "style": "IPY_MODEL_e333748c11854f37948ece34e5a8d828",
            "value": " 230M/230M [00:02&lt;00:00, 97.6MB/s]"
          }
        },
        "b2aae3d88c9949ed8c50f931c0128fa2": {
          "model_module": "@jupyter-widgets/base",
          "model_name": "LayoutModel",
          "model_module_version": "1.2.0",
          "state": {
            "_model_module": "@jupyter-widgets/base",
            "_model_module_version": "1.2.0",
            "_model_name": "LayoutModel",
            "_view_count": null,
            "_view_module": "@jupyter-widgets/base",
            "_view_module_version": "1.2.0",
            "_view_name": "LayoutView",
            "align_content": null,
            "align_items": null,
            "align_self": null,
            "border": null,
            "bottom": null,
            "display": null,
            "flex": null,
            "flex_flow": null,
            "grid_area": null,
            "grid_auto_columns": null,
            "grid_auto_flow": null,
            "grid_auto_rows": null,
            "grid_column": null,
            "grid_gap": null,
            "grid_row": null,
            "grid_template_areas": null,
            "grid_template_columns": null,
            "grid_template_rows": null,
            "height": null,
            "justify_content": null,
            "justify_items": null,
            "left": null,
            "margin": null,
            "max_height": null,
            "max_width": null,
            "min_height": null,
            "min_width": null,
            "object_fit": null,
            "object_position": null,
            "order": null,
            "overflow": null,
            "overflow_x": null,
            "overflow_y": null,
            "padding": null,
            "right": null,
            "top": null,
            "visibility": null,
            "width": null
          }
        },
        "4f63db440c214ac880f765a85d31ad25": {
          "model_module": "@jupyter-widgets/base",
          "model_name": "LayoutModel",
          "model_module_version": "1.2.0",
          "state": {
            "_model_module": "@jupyter-widgets/base",
            "_model_module_version": "1.2.0",
            "_model_name": "LayoutModel",
            "_view_count": null,
            "_view_module": "@jupyter-widgets/base",
            "_view_module_version": "1.2.0",
            "_view_name": "LayoutView",
            "align_content": null,
            "align_items": null,
            "align_self": null,
            "border": null,
            "bottom": null,
            "display": null,
            "flex": null,
            "flex_flow": null,
            "grid_area": null,
            "grid_auto_columns": null,
            "grid_auto_flow": null,
            "grid_auto_rows": null,
            "grid_column": null,
            "grid_gap": null,
            "grid_row": null,
            "grid_template_areas": null,
            "grid_template_columns": null,
            "grid_template_rows": null,
            "height": null,
            "justify_content": null,
            "justify_items": null,
            "left": null,
            "margin": null,
            "max_height": null,
            "max_width": null,
            "min_height": null,
            "min_width": null,
            "object_fit": null,
            "object_position": null,
            "order": null,
            "overflow": null,
            "overflow_x": null,
            "overflow_y": null,
            "padding": null,
            "right": null,
            "top": null,
            "visibility": null,
            "width": null
          }
        },
        "ef599236a19c4cd8a151089ff26bb2d3": {
          "model_module": "@jupyter-widgets/controls",
          "model_name": "DescriptionStyleModel",
          "model_module_version": "1.5.0",
          "state": {
            "_model_module": "@jupyter-widgets/controls",
            "_model_module_version": "1.5.0",
            "_model_name": "DescriptionStyleModel",
            "_view_count": null,
            "_view_module": "@jupyter-widgets/base",
            "_view_module_version": "1.2.0",
            "_view_name": "StyleView",
            "description_width": ""
          }
        },
        "c02e8781a76e4c428b22bec99b151978": {
          "model_module": "@jupyter-widgets/base",
          "model_name": "LayoutModel",
          "model_module_version": "1.2.0",
          "state": {
            "_model_module": "@jupyter-widgets/base",
            "_model_module_version": "1.2.0",
            "_model_name": "LayoutModel",
            "_view_count": null,
            "_view_module": "@jupyter-widgets/base",
            "_view_module_version": "1.2.0",
            "_view_name": "LayoutView",
            "align_content": null,
            "align_items": null,
            "align_self": null,
            "border": null,
            "bottom": null,
            "display": null,
            "flex": null,
            "flex_flow": null,
            "grid_area": null,
            "grid_auto_columns": null,
            "grid_auto_flow": null,
            "grid_auto_rows": null,
            "grid_column": null,
            "grid_gap": null,
            "grid_row": null,
            "grid_template_areas": null,
            "grid_template_columns": null,
            "grid_template_rows": null,
            "height": null,
            "justify_content": null,
            "justify_items": null,
            "left": null,
            "margin": null,
            "max_height": null,
            "max_width": null,
            "min_height": null,
            "min_width": null,
            "object_fit": null,
            "object_position": null,
            "order": null,
            "overflow": null,
            "overflow_x": null,
            "overflow_y": null,
            "padding": null,
            "right": null,
            "top": null,
            "visibility": null,
            "width": null
          }
        },
        "4632d6c5bcc74c4185fef666b1851165": {
          "model_module": "@jupyter-widgets/controls",
          "model_name": "ProgressStyleModel",
          "model_module_version": "1.5.0",
          "state": {
            "_model_module": "@jupyter-widgets/controls",
            "_model_module_version": "1.5.0",
            "_model_name": "ProgressStyleModel",
            "_view_count": null,
            "_view_module": "@jupyter-widgets/base",
            "_view_module_version": "1.2.0",
            "_view_name": "StyleView",
            "bar_color": null,
            "description_width": ""
          }
        },
        "dc04d32629ad4b618aedee7a924054f9": {
          "model_module": "@jupyter-widgets/base",
          "model_name": "LayoutModel",
          "model_module_version": "1.2.0",
          "state": {
            "_model_module": "@jupyter-widgets/base",
            "_model_module_version": "1.2.0",
            "_model_name": "LayoutModel",
            "_view_count": null,
            "_view_module": "@jupyter-widgets/base",
            "_view_module_version": "1.2.0",
            "_view_name": "LayoutView",
            "align_content": null,
            "align_items": null,
            "align_self": null,
            "border": null,
            "bottom": null,
            "display": null,
            "flex": null,
            "flex_flow": null,
            "grid_area": null,
            "grid_auto_columns": null,
            "grid_auto_flow": null,
            "grid_auto_rows": null,
            "grid_column": null,
            "grid_gap": null,
            "grid_row": null,
            "grid_template_areas": null,
            "grid_template_columns": null,
            "grid_template_rows": null,
            "height": null,
            "justify_content": null,
            "justify_items": null,
            "left": null,
            "margin": null,
            "max_height": null,
            "max_width": null,
            "min_height": null,
            "min_width": null,
            "object_fit": null,
            "object_position": null,
            "order": null,
            "overflow": null,
            "overflow_x": null,
            "overflow_y": null,
            "padding": null,
            "right": null,
            "top": null,
            "visibility": null,
            "width": null
          }
        },
        "e333748c11854f37948ece34e5a8d828": {
          "model_module": "@jupyter-widgets/controls",
          "model_name": "DescriptionStyleModel",
          "model_module_version": "1.5.0",
          "state": {
            "_model_module": "@jupyter-widgets/controls",
            "_model_module_version": "1.5.0",
            "_model_name": "DescriptionStyleModel",
            "_view_count": null,
            "_view_module": "@jupyter-widgets/base",
            "_view_module_version": "1.2.0",
            "_view_name": "StyleView",
            "description_width": ""
          }
        },
        "e0110c5eec924fc7a721588f312ccca8": {
          "model_module": "@jupyter-widgets/output",
          "model_name": "OutputModel",
          "model_module_version": "1.0.0",
          "state": {
            "_dom_classes": [],
            "_model_module": "@jupyter-widgets/output",
            "_model_module_version": "1.0.0",
            "_model_name": "OutputModel",
            "_view_count": null,
            "_view_module": "@jupyter-widgets/output",
            "_view_module_version": "1.0.0",
            "_view_name": "OutputView",
            "layout": "IPY_MODEL_177917f70ae74a3798df61fe9e6f658b",
            "msg_id": "",
            "outputs": [
              {
                "output_type": "display_data",
                "data": {
                  "text/plain": "\u001b[37mCaching\u001b[0m    \u001b[38;2;103;200;122m━━━━━━━━━━━━━━━━━━━━━━━━━━━━━━━━━━━━━━━━\u001b[0m \u001b[37m263/263\u001b[0m \u001b[38;5;245m0:02:10 • 0:00:00\u001b[0m \u001b[38;5;249m2.00it/s\u001b[0m  \n",
                  "text/html": "<pre style=\"white-space:pre;overflow-x:auto;line-height:normal;font-family:Menlo,'DejaVu Sans Mono',consolas,'Courier New',monospace\"><span style=\"color: #c0c0c0; text-decoration-color: #c0c0c0\">Caching</span>    <span style=\"color: #67c87a; text-decoration-color: #67c87a\">━━━━━━━━━━━━━━━━━━━━━━━━━━━━━━━━━━━━━━━━</span> <span style=\"color: #c0c0c0; text-decoration-color: #c0c0c0\">263/263</span> <span style=\"color: #8a8a8a; text-decoration-color: #8a8a8a\">0:02:10 • 0:00:00</span> <span style=\"color: #b2b2b2; text-decoration-color: #b2b2b2\">2.00it/s</span>  \n</pre>\n"
                },
                "metadata": {}
              }
            ]
          }
        },
        "177917f70ae74a3798df61fe9e6f658b": {
          "model_module": "@jupyter-widgets/base",
          "model_name": "LayoutModel",
          "model_module_version": "1.2.0",
          "state": {
            "_model_module": "@jupyter-widgets/base",
            "_model_module_version": "1.2.0",
            "_model_name": "LayoutModel",
            "_view_count": null,
            "_view_module": "@jupyter-widgets/base",
            "_view_module_version": "1.2.0",
            "_view_name": "LayoutView",
            "align_content": null,
            "align_items": null,
            "align_self": null,
            "border": null,
            "bottom": null,
            "display": null,
            "flex": null,
            "flex_flow": null,
            "grid_area": null,
            "grid_auto_columns": null,
            "grid_auto_flow": null,
            "grid_auto_rows": null,
            "grid_column": null,
            "grid_gap": null,
            "grid_row": null,
            "grid_template_areas": null,
            "grid_template_columns": null,
            "grid_template_rows": null,
            "height": null,
            "justify_content": null,
            "justify_items": null,
            "left": null,
            "margin": null,
            "max_height": null,
            "max_width": null,
            "min_height": null,
            "min_width": null,
            "object_fit": null,
            "object_position": null,
            "order": null,
            "overflow": null,
            "overflow_x": null,
            "overflow_y": null,
            "padding": null,
            "right": null,
            "top": null,
            "visibility": null,
            "width": null
          }
        },
        "b3cfae04b63a489f8cf73e43ae0cf9ac": {
          "model_module": "@jupyter-widgets/output",
          "model_name": "OutputModel",
          "model_module_version": "1.0.0",
          "state": {
            "_dom_classes": [],
            "_model_module": "@jupyter-widgets/output",
            "_model_module_version": "1.0.0",
            "_model_name": "OutputModel",
            "_view_count": null,
            "_view_module": "@jupyter-widgets/output",
            "_view_module_version": "1.0.0",
            "_view_name": "OutputView",
            "layout": "IPY_MODEL_a2855280d0ee491b84936ab7f774de5b",
            "msg_id": "",
            "outputs": [
              {
                "output_type": "display_data",
                "data": {
                  "text/plain": "Epoch 3    \u001b[38;2;103;200;122m━━━━━━━━━━━━━━━━━━━━━━━━━━━━━━━━━\u001b[0m \u001b[37m563/563\u001b[0m \u001b[38;5;245m0:00:14 • 0:00:00\u001b[0m \u001b[38;5;249m39.30it/s\u001b[0m \u001b[37mloss: 0.0271 v_num: 0             \u001b[0m\n                                                                                 \u001b[37mrrp_validation: 0.998 rrp_train:  \u001b[0m\n                                                                                 \u001b[37m0.996                             \u001b[0m\n",
                  "text/html": "<pre style=\"white-space:pre;overflow-x:auto;line-height:normal;font-family:Menlo,'DejaVu Sans Mono',consolas,'Courier New',monospace\">Epoch 3    <span style=\"color: #67c87a; text-decoration-color: #67c87a\">━━━━━━━━━━━━━━━━━━━━━━━━━━━━━━━━━</span> <span style=\"color: #c0c0c0; text-decoration-color: #c0c0c0\">563/563</span> <span style=\"color: #8a8a8a; text-decoration-color: #8a8a8a\">0:00:14 • 0:00:00</span> <span style=\"color: #b2b2b2; text-decoration-color: #b2b2b2\">39.30it/s</span> <span style=\"color: #c0c0c0; text-decoration-color: #c0c0c0\">loss: 0.0271 v_num: 0             </span>\n                                                                                 <span style=\"color: #c0c0c0; text-decoration-color: #c0c0c0\">rrp_validation: 0.998 rrp_train:  </span>\n                                                                                 <span style=\"color: #c0c0c0; text-decoration-color: #c0c0c0\">0.996                             </span>\n</pre>\n"
                },
                "metadata": {}
              }
            ]
          }
        },
        "a2855280d0ee491b84936ab7f774de5b": {
          "model_module": "@jupyter-widgets/base",
          "model_name": "LayoutModel",
          "model_module_version": "1.2.0",
          "state": {
            "_model_module": "@jupyter-widgets/base",
            "_model_module_version": "1.2.0",
            "_model_name": "LayoutModel",
            "_view_count": null,
            "_view_module": "@jupyter-widgets/base",
            "_view_module_version": "1.2.0",
            "_view_name": "LayoutView",
            "align_content": null,
            "align_items": null,
            "align_self": null,
            "border": null,
            "bottom": null,
            "display": null,
            "flex": null,
            "flex_flow": null,
            "grid_area": null,
            "grid_auto_columns": null,
            "grid_auto_flow": null,
            "grid_auto_rows": null,
            "grid_column": null,
            "grid_gap": null,
            "grid_row": null,
            "grid_template_areas": null,
            "grid_template_columns": null,
            "grid_template_rows": null,
            "height": null,
            "justify_content": null,
            "justify_items": null,
            "left": null,
            "margin": null,
            "max_height": null,
            "max_width": null,
            "min_height": null,
            "min_width": null,
            "object_fit": null,
            "object_position": null,
            "order": null,
            "overflow": null,
            "overflow_x": null,
            "overflow_y": null,
            "padding": null,
            "right": null,
            "top": null,
            "visibility": null,
            "width": null
          }
        }
      }
    }
  },
  "cells": [
    {
      "cell_type": "code",
      "source": [
        "!pip install pytorch_lightning==1.7.0\n",
        "!pip install quaterion"
      ],
      "metadata": {
        "colab": {
          "base_uri": "https://localhost:8080/"
        },
        "id": "781m6krkEap0",
        "outputId": "56398444-6ab3-438c-d2fe-7e85e8a511c6"
      },
      "execution_count": null,
      "outputs": [
        {
          "output_type": "stream",
          "name": "stdout",
          "text": [
            "Looking in indexes: https://pypi.org/simple, https://us-python.pkg.dev/colab-wheels/public/simple/\n",
            "Collecting pytorch_lightning==1.7.0\n",
            "  Downloading pytorch_lightning-1.7.0-py3-none-any.whl (700 kB)\n",
            "\u001b[2K     \u001b[90m━━━━━━━━━━━━━━━━━━━━━━━━━━━━━━━━━━━━━━\u001b[0m \u001b[32m700.9/700.9 KB\u001b[0m \u001b[31m13.7 MB/s\u001b[0m eta \u001b[36m0:00:00\u001b[0m\n",
            "\u001b[?25hRequirement already satisfied: PyYAML>=5.4 in /usr/local/lib/python3.9/dist-packages (from pytorch_lightning==1.7.0) (6.0)\n",
            "Requirement already satisfied: torch>=1.9.* in /usr/local/lib/python3.9/dist-packages (from pytorch_lightning==1.7.0) (1.13.1+cu116)\n",
            "Requirement already satisfied: typing-extensions>=4.0.0 in /usr/local/lib/python3.9/dist-packages (from pytorch_lightning==1.7.0) (4.5.0)\n",
            "Requirement already satisfied: packaging>=17.0 in /usr/local/lib/python3.9/dist-packages (from pytorch_lightning==1.7.0) (23.0)\n",
            "Requirement already satisfied: tensorboard>=2.9.1 in /usr/local/lib/python3.9/dist-packages (from pytorch_lightning==1.7.0) (2.11.2)\n",
            "Collecting pyDeprecate>=0.3.1\n",
            "  Downloading pyDeprecate-0.3.2-py3-none-any.whl (10 kB)\n",
            "Collecting torchmetrics>=0.7.0\n",
            "  Downloading torchmetrics-0.11.3-py3-none-any.whl (518 kB)\n",
            "\u001b[2K     \u001b[90m━━━━━━━━━━━━━━━━━━━━━━━━━━━━━━━━━━━━━━\u001b[0m \u001b[32m518.6/518.6 KB\u001b[0m \u001b[31m47.0 MB/s\u001b[0m eta \u001b[36m0:00:00\u001b[0m\n",
            "\u001b[?25hRequirement already satisfied: numpy>=1.17.2 in /usr/local/lib/python3.9/dist-packages (from pytorch_lightning==1.7.0) (1.22.4)\n",
            "Requirement already satisfied: fsspec[http]!=2021.06.0,>=2021.05.0 in /usr/local/lib/python3.9/dist-packages (from pytorch_lightning==1.7.0) (2023.3.0)\n",
            "Requirement already satisfied: tqdm>=4.57.0 in /usr/local/lib/python3.9/dist-packages (from pytorch_lightning==1.7.0) (4.65.0)\n",
            "Collecting aiohttp!=4.0.0a0,!=4.0.0a1\n",
            "  Downloading aiohttp-3.8.4-cp39-cp39-manylinux_2_17_x86_64.manylinux2014_x86_64.whl (1.0 MB)\n",
            "\u001b[2K     \u001b[90m━━━━━━━━━━━━━━━━━━━━━━━━━━━━━━━━━━━━━━━━\u001b[0m \u001b[32m1.0/1.0 MB\u001b[0m \u001b[31m56.5 MB/s\u001b[0m eta \u001b[36m0:00:00\u001b[0m\n",
            "\u001b[?25hRequirement already satisfied: requests in /usr/local/lib/python3.9/dist-packages (from fsspec[http]!=2021.06.0,>=2021.05.0->pytorch_lightning==1.7.0) (2.25.1)\n",
            "Requirement already satisfied: werkzeug>=1.0.1 in /usr/local/lib/python3.9/dist-packages (from tensorboard>=2.9.1->pytorch_lightning==1.7.0) (2.2.3)\n",
            "Requirement already satisfied: protobuf<4,>=3.9.2 in /usr/local/lib/python3.9/dist-packages (from tensorboard>=2.9.1->pytorch_lightning==1.7.0) (3.19.6)\n",
            "Requirement already satisfied: google-auth-oauthlib<0.5,>=0.4.1 in /usr/local/lib/python3.9/dist-packages (from tensorboard>=2.9.1->pytorch_lightning==1.7.0) (0.4.6)\n",
            "Requirement already satisfied: tensorboard-data-server<0.7.0,>=0.6.0 in /usr/local/lib/python3.9/dist-packages (from tensorboard>=2.9.1->pytorch_lightning==1.7.0) (0.6.1)\n",
            "Requirement already satisfied: absl-py>=0.4 in /usr/local/lib/python3.9/dist-packages (from tensorboard>=2.9.1->pytorch_lightning==1.7.0) (1.4.0)\n",
            "Requirement already satisfied: grpcio>=1.24.3 in /usr/local/lib/python3.9/dist-packages (from tensorboard>=2.9.1->pytorch_lightning==1.7.0) (1.51.3)\n",
            "Requirement already satisfied: wheel>=0.26 in /usr/local/lib/python3.9/dist-packages (from tensorboard>=2.9.1->pytorch_lightning==1.7.0) (0.38.4)\n",
            "Requirement already satisfied: tensorboard-plugin-wit>=1.6.0 in /usr/local/lib/python3.9/dist-packages (from tensorboard>=2.9.1->pytorch_lightning==1.7.0) (1.8.1)\n",
            "Requirement already satisfied: google-auth<3,>=1.6.3 in /usr/local/lib/python3.9/dist-packages (from tensorboard>=2.9.1->pytorch_lightning==1.7.0) (2.16.2)\n",
            "Requirement already satisfied: setuptools>=41.0.0 in /usr/local/lib/python3.9/dist-packages (from tensorboard>=2.9.1->pytorch_lightning==1.7.0) (57.4.0)\n",
            "Requirement already satisfied: markdown>=2.6.8 in /usr/local/lib/python3.9/dist-packages (from tensorboard>=2.9.1->pytorch_lightning==1.7.0) (3.4.1)\n",
            "Collecting aiosignal>=1.1.2\n",
            "  Downloading aiosignal-1.3.1-py3-none-any.whl (7.6 kB)\n",
            "Collecting async-timeout<5.0,>=4.0.0a3\n",
            "  Downloading async_timeout-4.0.2-py3-none-any.whl (5.8 kB)\n",
            "Collecting charset-normalizer<4.0,>=2.0\n",
            "  Downloading charset_normalizer-3.1.0-cp39-cp39-manylinux_2_17_x86_64.manylinux2014_x86_64.whl (199 kB)\n",
            "\u001b[2K     \u001b[90m━━━━━━━━━━━━━━━━━━━━━━━━━━━━━━━━━━━━━━\u001b[0m \u001b[32m199.2/199.2 KB\u001b[0m \u001b[31m20.0 MB/s\u001b[0m eta \u001b[36m0:00:00\u001b[0m\n",
            "\u001b[?25hRequirement already satisfied: attrs>=17.3.0 in /usr/local/lib/python3.9/dist-packages (from aiohttp!=4.0.0a0,!=4.0.0a1->fsspec[http]!=2021.06.0,>=2021.05.0->pytorch_lightning==1.7.0) (22.2.0)\n",
            "Collecting frozenlist>=1.1.1\n",
            "  Downloading frozenlist-1.3.3-cp39-cp39-manylinux_2_5_x86_64.manylinux1_x86_64.manylinux_2_17_x86_64.manylinux2014_x86_64.whl (158 kB)\n",
            "\u001b[2K     \u001b[90m━━━━━━━━━━━━━━━━━━━━━━━━━━━━━━━━━━━━━━\u001b[0m \u001b[32m158.8/158.8 KB\u001b[0m \u001b[31m16.7 MB/s\u001b[0m eta \u001b[36m0:00:00\u001b[0m\n",
            "\u001b[?25hCollecting yarl<2.0,>=1.0\n",
            "  Downloading yarl-1.8.2-cp39-cp39-manylinux_2_17_x86_64.manylinux2014_x86_64.whl (264 kB)\n",
            "\u001b[2K     \u001b[90m━━━━━━━━━━━━━━━━━━━━━━━━━━━━━━━━━━━━━━\u001b[0m \u001b[32m264.6/264.6 KB\u001b[0m \u001b[31m27.0 MB/s\u001b[0m eta \u001b[36m0:00:00\u001b[0m\n",
            "\u001b[?25hCollecting multidict<7.0,>=4.5\n",
            "  Downloading multidict-6.0.4-cp39-cp39-manylinux_2_17_x86_64.manylinux2014_x86_64.whl (114 kB)\n",
            "\u001b[2K     \u001b[90m━━━━━━━━━━━━━━━━━━━━━━━━━━━━━━━━━━━━━━\u001b[0m \u001b[32m114.2/114.2 KB\u001b[0m \u001b[31m13.8 MB/s\u001b[0m eta \u001b[36m0:00:00\u001b[0m\n",
            "\u001b[?25hRequirement already satisfied: six>=1.9.0 in /usr/local/lib/python3.9/dist-packages (from google-auth<3,>=1.6.3->tensorboard>=2.9.1->pytorch_lightning==1.7.0) (1.15.0)\n",
            "Requirement already satisfied: rsa<5,>=3.1.4 in /usr/local/lib/python3.9/dist-packages (from google-auth<3,>=1.6.3->tensorboard>=2.9.1->pytorch_lightning==1.7.0) (4.9)\n",
            "Requirement already satisfied: pyasn1-modules>=0.2.1 in /usr/local/lib/python3.9/dist-packages (from google-auth<3,>=1.6.3->tensorboard>=2.9.1->pytorch_lightning==1.7.0) (0.2.8)\n",
            "Requirement already satisfied: cachetools<6.0,>=2.0.0 in /usr/local/lib/python3.9/dist-packages (from google-auth<3,>=1.6.3->tensorboard>=2.9.1->pytorch_lightning==1.7.0) (5.3.0)\n",
            "Requirement already satisfied: requests-oauthlib>=0.7.0 in /usr/local/lib/python3.9/dist-packages (from google-auth-oauthlib<0.5,>=0.4.1->tensorboard>=2.9.1->pytorch_lightning==1.7.0) (1.3.1)\n",
            "Requirement already satisfied: importlib-metadata>=4.4 in /usr/local/lib/python3.9/dist-packages (from markdown>=2.6.8->tensorboard>=2.9.1->pytorch_lightning==1.7.0) (6.0.0)\n",
            "Requirement already satisfied: idna<3,>=2.5 in /usr/local/lib/python3.9/dist-packages (from requests->fsspec[http]!=2021.06.0,>=2021.05.0->pytorch_lightning==1.7.0) (2.10)\n",
            "Requirement already satisfied: certifi>=2017.4.17 in /usr/local/lib/python3.9/dist-packages (from requests->fsspec[http]!=2021.06.0,>=2021.05.0->pytorch_lightning==1.7.0) (2022.12.7)\n",
            "Requirement already satisfied: urllib3<1.27,>=1.21.1 in /usr/local/lib/python3.9/dist-packages (from requests->fsspec[http]!=2021.06.0,>=2021.05.0->pytorch_lightning==1.7.0) (1.26.14)\n",
            "Requirement already satisfied: chardet<5,>=3.0.2 in /usr/local/lib/python3.9/dist-packages (from requests->fsspec[http]!=2021.06.0,>=2021.05.0->pytorch_lightning==1.7.0) (4.0.0)\n",
            "Requirement already satisfied: MarkupSafe>=2.1.1 in /usr/local/lib/python3.9/dist-packages (from werkzeug>=1.0.1->tensorboard>=2.9.1->pytorch_lightning==1.7.0) (2.1.2)\n",
            "Requirement already satisfied: zipp>=0.5 in /usr/local/lib/python3.9/dist-packages (from importlib-metadata>=4.4->markdown>=2.6.8->tensorboard>=2.9.1->pytorch_lightning==1.7.0) (3.15.0)\n",
            "Requirement already satisfied: pyasn1<0.5.0,>=0.4.6 in /usr/local/lib/python3.9/dist-packages (from pyasn1-modules>=0.2.1->google-auth<3,>=1.6.3->tensorboard>=2.9.1->pytorch_lightning==1.7.0) (0.4.8)\n",
            "Requirement already satisfied: oauthlib>=3.0.0 in /usr/local/lib/python3.9/dist-packages (from requests-oauthlib>=0.7.0->google-auth-oauthlib<0.5,>=0.4.1->tensorboard>=2.9.1->pytorch_lightning==1.7.0) (3.2.2)\n",
            "Installing collected packages: pyDeprecate, multidict, frozenlist, charset-normalizer, async-timeout, yarl, torchmetrics, aiosignal, aiohttp, pytorch_lightning\n",
            "Successfully installed aiohttp-3.8.4 aiosignal-1.3.1 async-timeout-4.0.2 charset-normalizer-3.1.0 frozenlist-1.3.3 multidict-6.0.4 pyDeprecate-0.3.2 pytorch_lightning-1.7.0 torchmetrics-0.11.3 yarl-1.8.2\n",
            "Looking in indexes: https://pypi.org/simple, https://us-python.pkg.dev/colab-wheels/public/simple/\n",
            "Collecting quaterion\n",
            "  Downloading quaterion-0.1.34-py3-none-any.whl (74 kB)\n",
            "\u001b[2K     \u001b[90m━━━━━━━━━━━━━━━━━━━━━━━━━━━━━━━━━━━━━━━━\u001b[0m \u001b[32m74.2/74.2 KB\u001b[0m \u001b[31m3.6 MB/s\u001b[0m eta \u001b[36m0:00:00\u001b[0m\n",
            "\u001b[?25hRequirement already satisfied: torch>=1.8.2 in /usr/local/lib/python3.9/dist-packages (from quaterion) (1.13.1+cu116)\n",
            "Requirement already satisfied: pytorch-lightning<2.0.0,>=1.6.4 in /usr/local/lib/python3.9/dist-packages (from quaterion) (1.7.0)\n",
            "Collecting mmh3<4.0.0,>=3.0.0\n",
            "  Downloading mmh3-3.0.0-cp39-cp39-manylinux2010_x86_64.whl (49 kB)\n",
            "\u001b[2K     \u001b[90m━━━━━━━━━━━━━━━━━━━━━━━━━━━━━━━━━━━━━━━━\u001b[0m \u001b[32m49.3/49.3 KB\u001b[0m \u001b[31m5.5 MB/s\u001b[0m eta \u001b[36m0:00:00\u001b[0m\n",
            "\u001b[?25hRequirement already satisfied: protobuf<3.20,>=3.9.2 in /usr/local/lib/python3.9/dist-packages (from quaterion) (3.19.6)\n",
            "Collecting torchmetrics<=0.8.2\n",
            "  Downloading torchmetrics-0.8.2-py3-none-any.whl (409 kB)\n",
            "\u001b[2K     \u001b[90m━━━━━━━━━━━━━━━━━━━━━━━━━━━━━━━━━━━━━━\u001b[0m \u001b[32m409.8/409.8 KB\u001b[0m \u001b[31m14.1 MB/s\u001b[0m eta \u001b[36m0:00:00\u001b[0m\n",
            "\u001b[?25hCollecting loguru<0.6.0,>=0.5.3\n",
            "  Downloading loguru-0.5.3-py3-none-any.whl (57 kB)\n",
            "\u001b[2K     \u001b[90m━━━━━━━━━━━━━━━━━━━━━━━━━━━━━━━━━━━━━━━━\u001b[0m \u001b[32m57.2/57.2 KB\u001b[0m \u001b[31m7.5 MB/s\u001b[0m eta \u001b[36m0:00:00\u001b[0m\n",
            "\u001b[?25hCollecting rich<13.0.0,>=12.4.4\n",
            "  Downloading rich-12.6.0-py3-none-any.whl (237 kB)\n",
            "\u001b[2K     \u001b[90m━━━━━━━━━━━━━━━━━━━━━━━━━━━━━━━━━━━━━━\u001b[0m \u001b[32m237.5/237.5 KB\u001b[0m \u001b[31m21.2 MB/s\u001b[0m eta \u001b[36m0:00:00\u001b[0m\n",
            "\u001b[?25hCollecting quaterion-models<0.2.0,>=0.1.17\n",
            "  Downloading quaterion_models-0.1.19-py3-none-any.whl (26 kB)\n",
            "Requirement already satisfied: packaging>=17.0 in /usr/local/lib/python3.9/dist-packages (from pytorch-lightning<2.0.0,>=1.6.4->quaterion) (23.0)\n",
            "Requirement already satisfied: PyYAML>=5.4 in /usr/local/lib/python3.9/dist-packages (from pytorch-lightning<2.0.0,>=1.6.4->quaterion) (6.0)\n",
            "Requirement already satisfied: tensorboard>=2.9.1 in /usr/local/lib/python3.9/dist-packages (from pytorch-lightning<2.0.0,>=1.6.4->quaterion) (2.11.2)\n",
            "Requirement already satisfied: tqdm>=4.57.0 in /usr/local/lib/python3.9/dist-packages (from pytorch-lightning<2.0.0,>=1.6.4->quaterion) (4.65.0)\n",
            "Requirement already satisfied: typing-extensions>=4.0.0 in /usr/local/lib/python3.9/dist-packages (from pytorch-lightning<2.0.0,>=1.6.4->quaterion) (4.5.0)\n",
            "Requirement already satisfied: numpy>=1.17.2 in /usr/local/lib/python3.9/dist-packages (from pytorch-lightning<2.0.0,>=1.6.4->quaterion) (1.22.4)\n",
            "Requirement already satisfied: fsspec[http]!=2021.06.0,>=2021.05.0 in /usr/local/lib/python3.9/dist-packages (from pytorch-lightning<2.0.0,>=1.6.4->quaterion) (2023.3.0)\n",
            "Requirement already satisfied: pyDeprecate>=0.3.1 in /usr/local/lib/python3.9/dist-packages (from pytorch-lightning<2.0.0,>=1.6.4->quaterion) (0.3.2)\n",
            "Collecting commonmark<0.10.0,>=0.9.0\n",
            "  Downloading commonmark-0.9.1-py2.py3-none-any.whl (51 kB)\n",
            "\u001b[2K     \u001b[90m━━━━━━━━━━━━━━━━━━━━━━━━━━━━━━━━━━━━━━━━\u001b[0m \u001b[32m51.1/51.1 KB\u001b[0m \u001b[31m7.1 MB/s\u001b[0m eta \u001b[36m0:00:00\u001b[0m\n",
            "\u001b[?25hRequirement already satisfied: pygments<3.0.0,>=2.6.0 in /usr/local/lib/python3.9/dist-packages (from rich<13.0.0,>=12.4.4->quaterion) (2.6.1)\n",
            "Requirement already satisfied: aiohttp!=4.0.0a0,!=4.0.0a1 in /usr/local/lib/python3.9/dist-packages (from fsspec[http]!=2021.06.0,>=2021.05.0->pytorch-lightning<2.0.0,>=1.6.4->quaterion) (3.8.4)\n",
            "Requirement already satisfied: requests in /usr/local/lib/python3.9/dist-packages (from fsspec[http]!=2021.06.0,>=2021.05.0->pytorch-lightning<2.0.0,>=1.6.4->quaterion) (2.25.1)\n",
            "Requirement already satisfied: setuptools>=41.0.0 in /usr/local/lib/python3.9/dist-packages (from tensorboard>=2.9.1->pytorch-lightning<2.0.0,>=1.6.4->quaterion) (57.4.0)\n",
            "Requirement already satisfied: werkzeug>=1.0.1 in /usr/local/lib/python3.9/dist-packages (from tensorboard>=2.9.1->pytorch-lightning<2.0.0,>=1.6.4->quaterion) (2.2.3)\n",
            "Requirement already satisfied: tensorboard-plugin-wit>=1.6.0 in /usr/local/lib/python3.9/dist-packages (from tensorboard>=2.9.1->pytorch-lightning<2.0.0,>=1.6.4->quaterion) (1.8.1)\n",
            "Requirement already satisfied: google-auth<3,>=1.6.3 in /usr/local/lib/python3.9/dist-packages (from tensorboard>=2.9.1->pytorch-lightning<2.0.0,>=1.6.4->quaterion) (2.16.2)\n",
            "Requirement already satisfied: grpcio>=1.24.3 in /usr/local/lib/python3.9/dist-packages (from tensorboard>=2.9.1->pytorch-lightning<2.0.0,>=1.6.4->quaterion) (1.51.3)\n",
            "Requirement already satisfied: google-auth-oauthlib<0.5,>=0.4.1 in /usr/local/lib/python3.9/dist-packages (from tensorboard>=2.9.1->pytorch-lightning<2.0.0,>=1.6.4->quaterion) (0.4.6)\n",
            "Requirement already satisfied: wheel>=0.26 in /usr/local/lib/python3.9/dist-packages (from tensorboard>=2.9.1->pytorch-lightning<2.0.0,>=1.6.4->quaterion) (0.38.4)\n",
            "Requirement already satisfied: tensorboard-data-server<0.7.0,>=0.6.0 in /usr/local/lib/python3.9/dist-packages (from tensorboard>=2.9.1->pytorch-lightning<2.0.0,>=1.6.4->quaterion) (0.6.1)\n",
            "Requirement already satisfied: absl-py>=0.4 in /usr/local/lib/python3.9/dist-packages (from tensorboard>=2.9.1->pytorch-lightning<2.0.0,>=1.6.4->quaterion) (1.4.0)\n",
            "Requirement already satisfied: markdown>=2.6.8 in /usr/local/lib/python3.9/dist-packages (from tensorboard>=2.9.1->pytorch-lightning<2.0.0,>=1.6.4->quaterion) (3.4.1)\n",
            "Requirement already satisfied: attrs>=17.3.0 in /usr/local/lib/python3.9/dist-packages (from aiohttp!=4.0.0a0,!=4.0.0a1->fsspec[http]!=2021.06.0,>=2021.05.0->pytorch-lightning<2.0.0,>=1.6.4->quaterion) (22.2.0)\n",
            "Requirement already satisfied: frozenlist>=1.1.1 in /usr/local/lib/python3.9/dist-packages (from aiohttp!=4.0.0a0,!=4.0.0a1->fsspec[http]!=2021.06.0,>=2021.05.0->pytorch-lightning<2.0.0,>=1.6.4->quaterion) (1.3.3)\n",
            "Requirement already satisfied: multidict<7.0,>=4.5 in /usr/local/lib/python3.9/dist-packages (from aiohttp!=4.0.0a0,!=4.0.0a1->fsspec[http]!=2021.06.0,>=2021.05.0->pytorch-lightning<2.0.0,>=1.6.4->quaterion) (6.0.4)\n",
            "Requirement already satisfied: aiosignal>=1.1.2 in /usr/local/lib/python3.9/dist-packages (from aiohttp!=4.0.0a0,!=4.0.0a1->fsspec[http]!=2021.06.0,>=2021.05.0->pytorch-lightning<2.0.0,>=1.6.4->quaterion) (1.3.1)\n",
            "Requirement already satisfied: charset-normalizer<4.0,>=2.0 in /usr/local/lib/python3.9/dist-packages (from aiohttp!=4.0.0a0,!=4.0.0a1->fsspec[http]!=2021.06.0,>=2021.05.0->pytorch-lightning<2.0.0,>=1.6.4->quaterion) (3.1.0)\n",
            "Requirement already satisfied: async-timeout<5.0,>=4.0.0a3 in /usr/local/lib/python3.9/dist-packages (from aiohttp!=4.0.0a0,!=4.0.0a1->fsspec[http]!=2021.06.0,>=2021.05.0->pytorch-lightning<2.0.0,>=1.6.4->quaterion) (4.0.2)\n",
            "Requirement already satisfied: yarl<2.0,>=1.0 in /usr/local/lib/python3.9/dist-packages (from aiohttp!=4.0.0a0,!=4.0.0a1->fsspec[http]!=2021.06.0,>=2021.05.0->pytorch-lightning<2.0.0,>=1.6.4->quaterion) (1.8.2)\n",
            "Requirement already satisfied: cachetools<6.0,>=2.0.0 in /usr/local/lib/python3.9/dist-packages (from google-auth<3,>=1.6.3->tensorboard>=2.9.1->pytorch-lightning<2.0.0,>=1.6.4->quaterion) (5.3.0)\n",
            "Requirement already satisfied: rsa<5,>=3.1.4 in /usr/local/lib/python3.9/dist-packages (from google-auth<3,>=1.6.3->tensorboard>=2.9.1->pytorch-lightning<2.0.0,>=1.6.4->quaterion) (4.9)\n",
            "Requirement already satisfied: pyasn1-modules>=0.2.1 in /usr/local/lib/python3.9/dist-packages (from google-auth<3,>=1.6.3->tensorboard>=2.9.1->pytorch-lightning<2.0.0,>=1.6.4->quaterion) (0.2.8)\n",
            "Requirement already satisfied: six>=1.9.0 in /usr/local/lib/python3.9/dist-packages (from google-auth<3,>=1.6.3->tensorboard>=2.9.1->pytorch-lightning<2.0.0,>=1.6.4->quaterion) (1.15.0)\n",
            "Requirement already satisfied: requests-oauthlib>=0.7.0 in /usr/local/lib/python3.9/dist-packages (from google-auth-oauthlib<0.5,>=0.4.1->tensorboard>=2.9.1->pytorch-lightning<2.0.0,>=1.6.4->quaterion) (1.3.1)\n",
            "Requirement already satisfied: importlib-metadata>=4.4 in /usr/local/lib/python3.9/dist-packages (from markdown>=2.6.8->tensorboard>=2.9.1->pytorch-lightning<2.0.0,>=1.6.4->quaterion) (6.0.0)\n",
            "Requirement already satisfied: idna<3,>=2.5 in /usr/local/lib/python3.9/dist-packages (from requests->fsspec[http]!=2021.06.0,>=2021.05.0->pytorch-lightning<2.0.0,>=1.6.4->quaterion) (2.10)\n",
            "Requirement already satisfied: urllib3<1.27,>=1.21.1 in /usr/local/lib/python3.9/dist-packages (from requests->fsspec[http]!=2021.06.0,>=2021.05.0->pytorch-lightning<2.0.0,>=1.6.4->quaterion) (1.26.14)\n",
            "Requirement already satisfied: chardet<5,>=3.0.2 in /usr/local/lib/python3.9/dist-packages (from requests->fsspec[http]!=2021.06.0,>=2021.05.0->pytorch-lightning<2.0.0,>=1.6.4->quaterion) (4.0.0)\n",
            "Requirement already satisfied: certifi>=2017.4.17 in /usr/local/lib/python3.9/dist-packages (from requests->fsspec[http]!=2021.06.0,>=2021.05.0->pytorch-lightning<2.0.0,>=1.6.4->quaterion) (2022.12.7)\n",
            "Requirement already satisfied: MarkupSafe>=2.1.1 in /usr/local/lib/python3.9/dist-packages (from werkzeug>=1.0.1->tensorboard>=2.9.1->pytorch-lightning<2.0.0,>=1.6.4->quaterion) (2.1.2)\n",
            "Requirement already satisfied: zipp>=0.5 in /usr/local/lib/python3.9/dist-packages (from importlib-metadata>=4.4->markdown>=2.6.8->tensorboard>=2.9.1->pytorch-lightning<2.0.0,>=1.6.4->quaterion) (3.15.0)\n",
            "Requirement already satisfied: pyasn1<0.5.0,>=0.4.6 in /usr/local/lib/python3.9/dist-packages (from pyasn1-modules>=0.2.1->google-auth<3,>=1.6.3->tensorboard>=2.9.1->pytorch-lightning<2.0.0,>=1.6.4->quaterion) (0.4.8)\n",
            "Requirement already satisfied: oauthlib>=3.0.0 in /usr/local/lib/python3.9/dist-packages (from requests-oauthlib>=0.7.0->google-auth-oauthlib<0.5,>=0.4.1->tensorboard>=2.9.1->pytorch-lightning<2.0.0,>=1.6.4->quaterion) (3.2.2)\n",
            "Installing collected packages: mmh3, commonmark, rich, loguru, torchmetrics, quaterion-models, quaterion\n",
            "  Attempting uninstall: torchmetrics\n",
            "    Found existing installation: torchmetrics 0.11.3\n",
            "    Uninstalling torchmetrics-0.11.3:\n",
            "      Successfully uninstalled torchmetrics-0.11.3\n",
            "Successfully installed commonmark-0.9.1 loguru-0.5.3 mmh3-3.0.0 quaterion-0.1.34 quaterion-models-0.1.19 rich-12.6.0 torchmetrics-0.8.2\n"
          ]
        }
      ]
    },
    {
      "cell_type": "markdown",
      "source": [
        "## Config"
      ],
      "metadata": {
        "id": "ySP2DnonFa26"
      }
    },
    {
      "cell_type": "code",
      "source": [
        "# List of default parameters, used across multiple training scripts\n",
        "\n",
        "TRAIN_BATCH_SIZE = 32\n",
        "\n",
        "# Rescale images to this size\n",
        "IMAGE_SIZE = 336"
      ],
      "metadata": {
        "id": "vSknWAr2Fcv1"
      },
      "execution_count": null,
      "outputs": []
    },
    {
      "cell_type": "markdown",
      "source": [
        "## Data preparation"
      ],
      "metadata": {
        "id": "8S2r5skE7Ph_"
      }
    },
    {
      "cell_type": "code",
      "source": [
        "import os\n",
        "import pickle\n",
        "from typing import Callable\n",
        "\n",
        "import numpy as np\n",
        "import tqdm\n",
        "from pytorch_lightning import seed_everything\n",
        "from torch.utils.data import Dataset, Subset\n",
        "from torchvision import datasets, transforms\n",
        "from torchvision.datasets import ImageFolder\n",
        "\n",
        "from quaterion.dataset import GroupSimilarityDataLoader, SimilarityGroupSample\n",
        "\n",
        "# set seed to deterministically sample train and test categories later on\n",
        "seed_everything(seed=42)\n",
        "\n",
        "# dataset will be downloaded to this directory under local directory\n",
        "dataset_path = os.path.join(\".\", \"torchvision\", \"datasets\")"
      ],
      "metadata": {
        "colab": {
          "base_uri": "https://localhost:8080/"
        },
        "id": "jzoKvdCvhRqI",
        "outputId": "b11679c8-e4ed-4994-b8ca-b5b3f8be4d95"
      },
      "execution_count": null,
      "outputs": [
        {
          "output_type": "stream",
          "name": "stderr",
          "text": [
            "INFO:pytorch_lightning.utilities.seed:Global seed set to 42\n"
          ]
        }
      ]
    },
    {
      "cell_type": "code",
      "source": [
        "import zipfile"
      ],
      "metadata": {
        "id": "9GOIh2rsALx2"
      },
      "execution_count": null,
      "outputs": []
    },
    {
      "cell_type": "code",
      "source": [
        "from google.colab import drive\n",
        "drive.mount('/content/drive')"
      ],
      "metadata": {
        "colab": {
          "base_uri": "https://localhost:8080/"
        },
        "id": "HVEViOW4hKjt",
        "outputId": "96d966ed-91a7-4009-9994-44be4b3ce4ad"
      },
      "execution_count": null,
      "outputs": [
        {
          "output_type": "stream",
          "name": "stdout",
          "text": [
            "Mounted at /content/drive\n"
          ]
        }
      ]
    },
    {
      "cell_type": "code",
      "source": [
        "# zip extraction\n",
        "zip_ref = zipfile.ZipFile('/content/drive/MyDrive/Dataset_ML/vegetables_datasets.zip', 'r')\n",
        "zip_ref.extractall('')\n",
        "zip_ref.close()"
      ],
      "metadata": {
        "id": "Phy5VGTgAHpJ"
      },
      "execution_count": null,
      "outputs": []
    },
    {
      "cell_type": "code",
      "source": [
        "TRAIN_PATH = '/content/vegetables_datasets/train'\n",
        "TEST_PATH = '/content/vegetables_datasets/test'\n",
        "VAL_PATH = '/content/vegetables_datasets/validation'"
      ],
      "metadata": {
        "id": "jDd730xLrW9C"
      },
      "execution_count": null,
      "outputs": []
    },
    {
      "cell_type": "code",
      "source": [
        "def get_raw_dataset(input_size: int, split_cache_path=\"split_cache.pkl\"):\n",
        "    \"\"\"\n",
        "    Create dataset for extracting images, associated with vectors.\n",
        "    Args:\n",
        "        input_size: Resize images to this size\n",
        "        split_cache_path: Path to train split\n",
        "\n",
        "    Returns:\n",
        "\n",
        "    \"\"\"\n",
        "    transform = transforms.Compose(\n",
        "        [\n",
        "            transforms.Resize(input_size, max_size=input_size + 1),\n",
        "        ]\n",
        "    )\n",
        "\n",
        "    train_ds = datasets.ImageFolder(TRAIN_PATH, transform=transform)\n",
        "    test_ds = datasets.ImageFolder(TEST_PATH, transform=transform)\n",
        "    full_ds = train_ds + test_ds\n",
        "\n",
        "    # Use same indexes, as was used for training\n",
        "    train_indices, test_indices = pickle.load(open(split_cache_path, \"rb\"))\n",
        "\n",
        "    train_dataset = Subset(full_ds, train_indices)\n",
        "\n",
        "    test_dataset = Subset(full_ds, test_indices)\n",
        "\n",
        "    return train_dataset, test_dataset"
      ],
      "metadata": {
        "id": "srEr4ScOhk1n"
      },
      "execution_count": null,
      "outputs": []
    },
    {
      "cell_type": "code",
      "execution_count": null,
      "metadata": {
        "id": "oXd8dTOo0L9C"
      },
      "outputs": [],
      "source": [
        "def get_datasets(\n",
        "    input_size: int,\n",
        "    split_cache_path=\"split_cache.pkl\",\n",
        "):\n",
        "    # Use Mean and std values for the ImageNet dataset as the base model was pretrained on it.\n",
        "    # taken from https://www.geeksforgeeks.org/how-to-normalize-images-in-pytorch/\n",
        "    mean = [0.485, 0.456, 0.406]\n",
        "    std = [0.229, 0.224, 0.225]\n",
        "\n",
        "    # create train and test transforms\n",
        "    train_transform = transforms.Compose(\n",
        "        [\n",
        "            transforms.Resize((input_size, input_size)),\n",
        "            transforms.ToTensor(),\n",
        "            transforms.Normalize(mean, std),\n",
        "        ]\n",
        "    )\n",
        "\n",
        "    test_transform = transforms.Compose(\n",
        "        [\n",
        "            transforms.Resize((input_size, input_size)),\n",
        "            transforms.ToTensor(),\n",
        "            transforms.Normalize(mean, std),\n",
        "        ]\n",
        "    )\n",
        "\n",
        "    # we need to merge train and test splits into a full dataset first,\n",
        "    # and then we will split it to two subsets again with each one composed of distinct labels.\n",
        "\n",
        "    train_ds = datasets.ImageFolder(TRAIN_PATH)\n",
        "    test_ds = datasets.ImageFolder(TEST_PATH)\n",
        "    full_ds = train_ds + test_ds\n",
        "\n",
        "    train_indices, test_indices = None, None\n",
        "\n",
        "    if not split_cache_path or not os.path.exists(split_cache_path):\n",
        "        # full_dataset contains examples from 196 categories labeled with an integer from 0 to 195\n",
        "        # randomly sample half of it to be used for training\n",
        "        train_categories = np.random.choice(a=196, size=196 // 2, replace=False)\n",
        "\n",
        "        # get a list of labels for all samples in the dataset\n",
        "        labels_list = np.array([label for _, label in tqdm.tqdm(full_ds)])\n",
        "\n",
        "        # get a mask for indices where label is included in train_categories\n",
        "        labels_mask = np.isin(labels_list, train_categories)\n",
        "\n",
        "        # get a list of indices to be used as train samples\n",
        "        train_indices = np.argwhere(labels_mask).squeeze()\n",
        "        # print(train_indices)\n",
        "\n",
        "        # others will be used as test samples\n",
        "        test_indices = np.argwhere(np.logical_not(labels_mask)).squeeze()\n",
        "\n",
        "    if train_indices is None or test_indices is None:\n",
        "        train_indices, test_indices = pickle.load(open(split_cache_path, \"rb\"))\n",
        "    else:\n",
        "        pickle.dump((train_indices, test_indices), open(split_cache_path, \"wb\"))\n",
        "\n",
        "    # now that we have distinct indices for train and test sets, we can use `Subset` to create new datasets\n",
        "    # from `full_dataset`, which contain only the samples at given indices.\n",
        "    # finally, we apply transformations created above.\n",
        "\n",
        "    train_dataset = VegDataset(\n",
        "        Subset(full_ds, train_indices), transform=train_transform\n",
        "    )\n",
        "\n",
        "    test_dataset = VegDataset(\n",
        "        Subset(full_ds, test_indices), transform=test_transform\n",
        "    )\n",
        "\n",
        "    return train_dataset, test_dataset"
      ]
    },
    {
      "cell_type": "code",
      "source": [
        "def get_dataloaders(\n",
        "    batch_size: int,\n",
        "    input_size: int,\n",
        "    shuffle: bool = False,\n",
        "    split_cache_path=\"split_cache.pkl\",\n",
        "):\n",
        "    train_dataset, test_dataset = get_datasets(input_size, split_cache_path)\n",
        "    print(len(train_dataset))\n",
        "    train_dataloader = GroupSimilarityDataLoader(\n",
        "        train_dataset, batch_size=batch_size, shuffle=shuffle\n",
        "    )\n",
        "\n",
        "    test_dataloader = GroupSimilarityDataLoader(\n",
        "        test_dataset, batch_size=batch_size, shuffle=False\n",
        "    )\n",
        "\n",
        "    return train_dataloader, test_dataloader"
      ],
      "metadata": {
        "id": "Yrm46AzDiAOK"
      },
      "execution_count": null,
      "outputs": []
    },
    {
      "cell_type": "code",
      "source": [
        "class VegDataset(Dataset):\n",
        "    def __init__(self, dataset: Dataset, transform: Callable):\n",
        "        self._dataset = dataset\n",
        "        self._transform = transform\n",
        "\n",
        "    def __len__(self) -> int:\n",
        "        return len(self._dataset)\n",
        "\n",
        "    def __getitem__(self, index) -> SimilarityGroupSample:\n",
        "        image, label = self._dataset[index]\n",
        "        image = self._transform(image)\n",
        "\n",
        "        return SimilarityGroupSample(obj=image, group=label)"
      ],
      "metadata": {
        "id": "bihc92uOiTBK"
      },
      "execution_count": null,
      "outputs": []
    },
    {
      "cell_type": "markdown",
      "source": [
        "## Feature Vector Encoder"
      ],
      "metadata": {
        "id": "tlHoWs7xFkaA"
      }
    },
    {
      "cell_type": "code",
      "source": [
        "from typing import Dict, Optional, Union\n",
        "\n",
        "import torch\n",
        "from quaterion_models.encoders import Encoder\n",
        "from quaterion_models.heads import EncoderHead, SkipConnectionHead\n",
        "from torch import nn\n",
        "\n",
        "from quaterion import TrainableModel\n",
        "from quaterion.eval.attached_metric import AttachedMetric\n",
        "from quaterion.eval.group import RetrievalRPrecision\n",
        "from quaterion.loss import SimilarityLoss, TripletLoss\n",
        "from quaterion.train.cache import CacheConfig, CacheType\n",
        "import torchvision"
      ],
      "metadata": {
        "id": "WoeTG5aEF26Q"
      },
      "execution_count": null,
      "outputs": []
    },
    {
      "cell_type": "code",
      "source": [
        "import torch\n",
        "import torch.nn as nn\n",
        "from quaterion_models.encoders import Encoder\n",
        "\n",
        "\n",
        "class VegEncoder(Encoder):\n",
        "    def __init__(self, encoder_model: nn.Module):\n",
        "        super().__init__()\n",
        "        self._encoder = encoder_model\n",
        "        self._embedding_size = 2048  # last dimension from the ResNet model\n",
        "\n",
        "    @property\n",
        "    def trainable(self) -> bool:\n",
        "        return False\n",
        "\n",
        "    @property\n",
        "    def embedding_size(self) -> int:\n",
        "        return self._embedding_size\n",
        "\n",
        "    def forward(self, images):\n",
        "        embeddings = self._encoder.forward(images)\n",
        "        return embeddings\n",
        "\n",
        "    def save(self, output_path: str):\n",
        "        os.makedirs(output_path, exist_ok=True)\n",
        "        torch.save(self._encoder, os.path.join(output_path, \"encoder.pth\"))\n",
        "\n",
        "    @classmethod\n",
        "    def load(cls, input_path):\n",
        "        encoder_model = torch.load(os.path.join(input_path, \"encoder.pth\"))\n",
        "        return VegEncoder(encoder_model)"
      ],
      "metadata": {
        "id": "01QjQb8fES8U"
      },
      "execution_count": null,
      "outputs": []
    },
    {
      "cell_type": "code",
      "source": [
        "class Model(TrainableModel):\n",
        "    def __init__(self, lr: float, mining: str):\n",
        "        self._lr = lr\n",
        "        self._mining = mining\n",
        "        super().__init__()\n",
        "\n",
        "    def configure_encoders(self) -> Union[Encoder, Dict[str, Encoder]]:\n",
        "        pre_trained_encoder = torchvision.models.resnet152(weights='IMAGENET1K_V1')\n",
        "        pre_trained_encoder.fc = nn.Identity()\n",
        "        return VegEncoder(pre_trained_encoder)\n",
        "\n",
        "    def configure_head(self, input_embedding_size) -> EncoderHead:\n",
        "        return SkipConnectionHead(input_embedding_size, dropout=0.1)\n",
        "\n",
        "    def configure_loss(self) -> SimilarityLoss:\n",
        "        return TripletLoss(mining=self._mining, margin=0.5)\n",
        "\n",
        "    def configure_optimizers(self):\n",
        "        optimizer = torch.optim.Adam(self.model.parameters(), self._lr)\n",
        "        return optimizer\n",
        "\n",
        "    def configure_caches(self) -> Optional[CacheConfig]:\n",
        "        return CacheConfig(\n",
        "            cache_type=CacheType.AUTO, save_dir=\"./cache_dir\", batch_size=32\n",
        "        )\n",
        "\n",
        "    def configure_metrics(self) -> AttachedMetric:\n",
        "        return AttachedMetric(\n",
        "            \"rrp\",\n",
        "            metric=RetrievalRPrecision(),\n",
        "            prog_bar=True,\n",
        "            on_epoch=True,\n",
        "            on_step=False,\n",
        "        )"
      ],
      "metadata": {
        "id": "eCsmGZOIGB-T"
      },
      "execution_count": null,
      "outputs": []
    },
    {
      "cell_type": "code",
      "source": [
        "import shutil\n",
        "from quaterion import Quaterion\n",
        "from pytorch_lightning.callbacks import EarlyStopping, ModelSummary\n",
        "\n",
        "def train(\n",
        "    lr: float,\n",
        "    mining: str,\n",
        "    batch_size: int,\n",
        "    epochs: int,\n",
        "    input_size: int,\n",
        "    shuffle: bool,\n",
        "    save_dir: str,\n",
        "):\n",
        "\n",
        "    model = Model(\n",
        "        lr=lr,\n",
        "        mining=mining,\n",
        "    )\n",
        "    import warnings\n",
        "\n",
        "    warnings.filterwarnings(\"ignore\", \".*does not have many workers.*\")\n",
        "\n",
        "    train_dataloader, val_dataloader = get_dataloaders(\n",
        "        batch_size=batch_size, input_size=input_size, shuffle=shuffle\n",
        "    )\n",
        "\n",
        "    print(train_dataloader)\n",
        "\n",
        "    Quaterion.fit(\n",
        "        trainable_model=model,\n",
        "        trainer=None,\n",
        "        train_dataloader=train_dataloader,\n",
        "        val_dataloader=val_dataloader,\n",
        "    )\n",
        "\n",
        "    shutil.rmtree(save_dir, ignore_errors=True)\n",
        "    model.save_servable(save_dir)"
      ],
      "metadata": {
        "id": "IB-qcJ5TGs1n"
      },
      "execution_count": null,
      "outputs": []
    },
    {
      "cell_type": "code",
      "source": [
        "train(lr=1e-3, mining=\"hard\", batch_size=32, epochs=30, input_size=IMAGE_SIZE, shuffle=True, save_dir=\"vegs_class\")"
      ],
      "metadata": {
        "id": "2v-fZT_hHsGX",
        "colab": {
          "base_uri": "https://localhost:8080/",
          "height": 952,
          "referenced_widgets": [
            "0fc78ab409d143ae8251354f1ed806c9",
            "3bfa3819f77e42528c95ff7b4a12f8e0",
            "3f3a4387d16f4541b7ac0b1cff1c3fd9",
            "09b87d73c079422c96c46236ce988b27",
            "b2aae3d88c9949ed8c50f931c0128fa2",
            "4f63db440c214ac880f765a85d31ad25",
            "ef599236a19c4cd8a151089ff26bb2d3",
            "c02e8781a76e4c428b22bec99b151978",
            "4632d6c5bcc74c4185fef666b1851165",
            "dc04d32629ad4b618aedee7a924054f9",
            "e333748c11854f37948ece34e5a8d828",
            "e0110c5eec924fc7a721588f312ccca8",
            "177917f70ae74a3798df61fe9e6f658b",
            "b3cfae04b63a489f8cf73e43ae0cf9ac",
            "a2855280d0ee491b84936ab7f774de5b"
          ]
        },
        "outputId": "e15dadbc-b9e6-41e8-fb05-fc6980e2e18e"
      },
      "execution_count": null,
      "outputs": [
        {
          "output_type": "stream",
          "name": "stderr",
          "text": [
            "Downloading: \"https://download.pytorch.org/models/resnet152-394f9c45.pth\" to /root/.cache/torch/hub/checkpoints/resnet152-394f9c45.pth\n"
          ]
        },
        {
          "output_type": "display_data",
          "data": {
            "text/plain": [
              "  0%|          | 0.00/230M [00:00<?, ?B/s]"
            ],
            "application/vnd.jupyter.widget-view+json": {
              "version_major": 2,
              "version_minor": 0,
              "model_id": "0fc78ab409d143ae8251354f1ed806c9"
            }
          },
          "metadata": {}
        },
        {
          "output_type": "stream",
          "name": "stdout",
          "text": [
            "9600\n",
            "<quaterion.dataset.similarity_data_loader.GroupSimilarityDataLoader object at 0x7f218198e3d0>\n"
          ]
        },
        {
          "output_type": "stream",
          "name": "stderr",
          "text": [
            "INFO:pytorch_lightning.utilities.rank_zero:GPU available: True (cuda), used: True\n",
            "INFO:pytorch_lightning.utilities.rank_zero:TPU available: False, using: 0 TPU cores\n",
            "INFO:pytorch_lightning.utilities.rank_zero:IPU available: False, using: 0 IPUs\n",
            "INFO:pytorch_lightning.utilities.rank_zero:HPU available: False, using: 0 HPUs\n",
            "/usr/local/lib/python3.9/dist-packages/pytorch_lightning/callbacks/base.py:22: LightningDeprecationWarning: pytorch_lightning.callbacks.base.Callback has been deprecated in v1.7 and will be removed in v1.9. Use the equivalent class from the pytorch_lightning.callbacks.callback.Callback class instead.\n",
            "  rank_zero_deprecation(\n",
            "2023-03-09 04:02:10.636 | DEBUG    | quaterion.train.cache_mixin:_cache:168 - Using full cache\n",
            "WARNING:pytorch_lightning.loggers.tensorboard:Missing logger folder: /content/lightning_logs\n",
            "INFO:pytorch_lightning.accelerators.cuda:LOCAL_RANK: 0 - CUDA_VISIBLE_DEVICES: [0]\n"
          ]
        },
        {
          "output_type": "display_data",
          "data": {
            "text/plain": [
              "Output()"
            ],
            "application/vnd.jupyter.widget-view+json": {
              "version_major": 2,
              "version_minor": 0,
              "model_id": "e0110c5eec924fc7a721588f312ccca8"
            }
          },
          "metadata": {}
        },
        {
          "output_type": "display_data",
          "data": {
            "text/plain": [],
            "text/html": [
              "<pre style=\"white-space:pre;overflow-x:auto;line-height:normal;font-family:Menlo,'DejaVu Sans Mono',consolas,'Courier New',monospace\"></pre>\n"
            ]
          },
          "metadata": {}
        },
        {
          "output_type": "display_data",
          "data": {
            "text/plain": [
              "\n"
            ],
            "text/html": [
              "<pre style=\"white-space:pre;overflow-x:auto;line-height:normal;font-family:Menlo,'DejaVu Sans Mono',consolas,'Courier New',monospace\">\n",
              "</pre>\n"
            ]
          },
          "metadata": {}
        },
        {
          "output_type": "stream",
          "name": "stderr",
          "text": [
            "2023-03-09 04:06:58.290 | DEBUG    | quaterion.train.cache_mixin:_cache:223 - Caching has been successfully finished\n",
            "2023-03-09 04:07:00.833 | DEBUG    | quaterion.train.cache_mixin:save_cache:385 - Cache saved to ./cache_dir\n",
            "INFO:pytorch_lightning.accelerators.cuda:LOCAL_RANK: 0 - CUDA_VISIBLE_DEVICES: [0]\n"
          ]
        },
        {
          "output_type": "display_data",
          "data": {
            "text/plain": [
              "┏━━━┳━━━━━━━━━━━━━━━━━━━━━━━━━━┳━━━━━━━━━━━━━━━━━━━━┳━━━━━━━━┓\n",
              "┃\u001b[1;35m \u001b[0m\u001b[1;35m \u001b[0m\u001b[1;35m \u001b[0m┃\u001b[1;35m \u001b[0m\u001b[1;35mName                    \u001b[0m\u001b[1;35m \u001b[0m┃\u001b[1;35m \u001b[0m\u001b[1;35mType              \u001b[0m\u001b[1;35m \u001b[0m┃\u001b[1;35m \u001b[0m\u001b[1;35mParams\u001b[0m\u001b[1;35m \u001b[0m┃\n",
              "┡━━━╇━━━━━━━━━━━━━━━━━━━━━━━━━━╇━━━━━━━━━━━━━━━━━━━━╇━━━━━━━━┩\n",
              "│\u001b[2m \u001b[0m\u001b[2m0\u001b[0m\u001b[2m \u001b[0m│ _model                   │ SimilarityModel    │ 62.3 M │\n",
              "│\u001b[2m \u001b[0m\u001b[2m1\u001b[0m\u001b[2m \u001b[0m│ _model.default           │ VegEncoder         │ 58.1 M │\n",
              "│\u001b[2m \u001b[0m\u001b[2m2\u001b[0m\u001b[2m \u001b[0m│ _model.default._encoder  │ ResNet             │ 58.1 M │\n",
              "│\u001b[2m \u001b[0m\u001b[2m3\u001b[0m\u001b[2m \u001b[0m│ _model.head              │ SkipConnectionHead │  4.2 M │\n",
              "│\u001b[2m \u001b[0m\u001b[2m4\u001b[0m\u001b[2m \u001b[0m│ _model.head.dropout      │ Dropout            │      0 │\n",
              "│\u001b[2m \u001b[0m\u001b[2m5\u001b[0m\u001b[2m \u001b[0m│ _model.head.fc_0         │ Linear             │  4.2 M │\n",
              "│\u001b[2m \u001b[0m\u001b[2m6\u001b[0m\u001b[2m \u001b[0m│ _model.head.skip_dropout │ Identity           │      0 │\n",
              "│\u001b[2m \u001b[0m\u001b[2m7\u001b[0m\u001b[2m \u001b[0m│ _loss                    │ TripletLoss        │      0 │\n",
              "└───┴──────────────────────────┴────────────────────┴────────┘\n"
            ],
            "text/html": [
              "<pre style=\"white-space:pre;overflow-x:auto;line-height:normal;font-family:Menlo,'DejaVu Sans Mono',consolas,'Courier New',monospace\">┏━━━┳━━━━━━━━━━━━━━━━━━━━━━━━━━┳━━━━━━━━━━━━━━━━━━━━┳━━━━━━━━┓\n",
              "┃<span style=\"color: #800080; text-decoration-color: #800080; font-weight: bold\">   </span>┃<span style=\"color: #800080; text-decoration-color: #800080; font-weight: bold\"> Name                     </span>┃<span style=\"color: #800080; text-decoration-color: #800080; font-weight: bold\"> Type               </span>┃<span style=\"color: #800080; text-decoration-color: #800080; font-weight: bold\"> Params </span>┃\n",
              "┡━━━╇━━━━━━━━━━━━━━━━━━━━━━━━━━╇━━━━━━━━━━━━━━━━━━━━╇━━━━━━━━┩\n",
              "│<span style=\"color: #7f7f7f; text-decoration-color: #7f7f7f\"> 0 </span>│ _model                   │ SimilarityModel    │ 62.3 M │\n",
              "│<span style=\"color: #7f7f7f; text-decoration-color: #7f7f7f\"> 1 </span>│ _model.default           │ VegEncoder         │ 58.1 M │\n",
              "│<span style=\"color: #7f7f7f; text-decoration-color: #7f7f7f\"> 2 </span>│ _model.default._encoder  │ ResNet             │ 58.1 M │\n",
              "│<span style=\"color: #7f7f7f; text-decoration-color: #7f7f7f\"> 3 </span>│ _model.head              │ SkipConnectionHead │  4.2 M │\n",
              "│<span style=\"color: #7f7f7f; text-decoration-color: #7f7f7f\"> 4 </span>│ _model.head.dropout      │ Dropout            │      0 │\n",
              "│<span style=\"color: #7f7f7f; text-decoration-color: #7f7f7f\"> 5 </span>│ _model.head.fc_0         │ Linear             │  4.2 M │\n",
              "│<span style=\"color: #7f7f7f; text-decoration-color: #7f7f7f\"> 6 </span>│ _model.head.skip_dropout │ Identity           │      0 │\n",
              "│<span style=\"color: #7f7f7f; text-decoration-color: #7f7f7f\"> 7 </span>│ _loss                    │ TripletLoss        │      0 │\n",
              "└───┴──────────────────────────┴────────────────────┴────────┘\n",
              "</pre>\n"
            ]
          },
          "metadata": {}
        },
        {
          "output_type": "display_data",
          "data": {
            "text/plain": [
              "\u001b[1mTrainable params\u001b[0m: 4.2 M                                                                                            \n",
              "\u001b[1mNon-trainable params\u001b[0m: 58.1 M                                                                                       \n",
              "\u001b[1mTotal params\u001b[0m: 62.3 M                                                                                               \n",
              "\u001b[1mTotal estimated model params size (MB)\u001b[0m: 249                                                                        \n"
            ],
            "text/html": [
              "<pre style=\"white-space:pre;overflow-x:auto;line-height:normal;font-family:Menlo,'DejaVu Sans Mono',consolas,'Courier New',monospace\"><span style=\"font-weight: bold\">Trainable params</span>: 4.2 M                                                                                            \n",
              "<span style=\"font-weight: bold\">Non-trainable params</span>: 58.1 M                                                                                       \n",
              "<span style=\"font-weight: bold\">Total params</span>: 62.3 M                                                                                               \n",
              "<span style=\"font-weight: bold\">Total estimated model params size (MB)</span>: 249                                                                        \n",
              "</pre>\n"
            ]
          },
          "metadata": {}
        },
        {
          "output_type": "display_data",
          "data": {
            "text/plain": [
              "Output()"
            ],
            "application/vnd.jupyter.widget-view+json": {
              "version_major": 2,
              "version_minor": 0,
              "model_id": "b3cfae04b63a489f8cf73e43ae0cf9ac"
            }
          },
          "metadata": {}
        },
        {
          "output_type": "display_data",
          "data": {
            "text/plain": [
              "\u001b[37mEpoch 0   \u001b[0m \u001b[38;2;72;129;173m━━━━━━━━━━━━━━━━━━━━━━━━━━━━━━━━━━━━\u001b[0m\u001b[38;5;237m╺\u001b[0m\u001b[38;5;237m━━━\u001b[0m \u001b[37m513/563\u001b[0m \u001b[38;5;245m0:00:11 • 0:00:02\u001b[0m \u001b[38;5;249m43.43it/s\u001b[0m \u001b[37mloss: 0.169 v_num: 0 \u001b[0m\n",
              "\u001b[37mValidation\u001b[0m \u001b[38;2;72;129;173m━━━━━━━━━━━━━━━━━━━━━━━━━━━━━━━━\u001b[0m\u001b[38;5;237m╺\u001b[0m\u001b[38;5;237m━━━━━━━\u001b[0m \u001b[37m213/263\u001b[0m \u001b[38;5;245m0:00:05 • 0:00:02\u001b[0m \u001b[38;5;249m39.64it/s\u001b[0m                      \n"
            ],
            "text/html": [
              "<pre style=\"white-space:pre;overflow-x:auto;line-height:normal;font-family:Menlo,'DejaVu Sans Mono',consolas,'Courier New',monospace\"><span style=\"color: #c0c0c0; text-decoration-color: #c0c0c0\">Epoch 0   </span> <span style=\"color: #4881ad; text-decoration-color: #4881ad\">━━━━━━━━━━━━━━━━━━━━━━━━━━━━━━━━━━━━</span><span style=\"color: #3a3a3a; text-decoration-color: #3a3a3a\">╺━━━</span> <span style=\"color: #c0c0c0; text-decoration-color: #c0c0c0\">513/563</span> <span style=\"color: #8a8a8a; text-decoration-color: #8a8a8a\">0:00:11 • 0:00:02</span> <span style=\"color: #b2b2b2; text-decoration-color: #b2b2b2\">43.43it/s</span> <span style=\"color: #c0c0c0; text-decoration-color: #c0c0c0\">loss: 0.169 v_num: 0 </span>\n",
              "<span style=\"color: #c0c0c0; text-decoration-color: #c0c0c0\">Validation</span> <span style=\"color: #4881ad; text-decoration-color: #4881ad\">━━━━━━━━━━━━━━━━━━━━━━━━━━━━━━━━</span><span style=\"color: #3a3a3a; text-decoration-color: #3a3a3a\">╺━━━━━━━</span> <span style=\"color: #c0c0c0; text-decoration-color: #c0c0c0\">213/263</span> <span style=\"color: #8a8a8a; text-decoration-color: #8a8a8a\">0:00:05 • 0:00:02</span> <span style=\"color: #b2b2b2; text-decoration-color: #b2b2b2\">39.64it/s</span>                      \n",
              "</pre>\n"
            ]
          },
          "metadata": {}
        },
        {
          "output_type": "display_data",
          "data": {
            "text/plain": [
              "Epoch 1    \u001b[38;2;72;129;173m━━━━━━━━━━━━━━━━━━━━━━━━━━━━━━━━\u001b[0m\u001b[38;5;237m╺\u001b[0m \u001b[37m551/563\u001b[0m \u001b[38;5;245m0:00:14 • 0:00:01\u001b[0m \u001b[38;5;249m37.22it/s\u001b[0m \u001b[37mloss: 0.065 v_num: 0              \u001b[0m\n",
              "                                                                                 \u001b[37mrrp_validation: 0.998 rrp_train:  \u001b[0m\n",
              "                                                                                 \u001b[37m0.914                             \u001b[0m\n",
              "\u001b[37mValidation\u001b[0m \u001b[38;2;72;129;173m━━━━━━━━━━━━━━━━━━━━━━━━━━━━━━━\u001b[0m\u001b[38;5;237m╺\u001b[0m\u001b[38;5;237m━\u001b[0m \u001b[37m251/263\u001b[0m \u001b[38;5;245m0:00:07 • 0:00:01\u001b[0m \u001b[38;5;249m31.80it/s\u001b[0m                                   \n"
            ],
            "text/html": [
              "<pre style=\"white-space:pre;overflow-x:auto;line-height:normal;font-family:Menlo,'DejaVu Sans Mono',consolas,'Courier New',monospace\">Epoch 1    <span style=\"color: #4881ad; text-decoration-color: #4881ad\">━━━━━━━━━━━━━━━━━━━━━━━━━━━━━━━━</span><span style=\"color: #3a3a3a; text-decoration-color: #3a3a3a\">╺</span> <span style=\"color: #c0c0c0; text-decoration-color: #c0c0c0\">551/563</span> <span style=\"color: #8a8a8a; text-decoration-color: #8a8a8a\">0:00:14 • 0:00:01</span> <span style=\"color: #b2b2b2; text-decoration-color: #b2b2b2\">37.22it/s</span> <span style=\"color: #c0c0c0; text-decoration-color: #c0c0c0\">loss: 0.065 v_num: 0              </span>\n",
              "                                                                                 <span style=\"color: #c0c0c0; text-decoration-color: #c0c0c0\">rrp_validation: 0.998 rrp_train:  </span>\n",
              "                                                                                 <span style=\"color: #c0c0c0; text-decoration-color: #c0c0c0\">0.914                             </span>\n",
              "<span style=\"color: #c0c0c0; text-decoration-color: #c0c0c0\">Validation</span> <span style=\"color: #4881ad; text-decoration-color: #4881ad\">━━━━━━━━━━━━━━━━━━━━━━━━━━━━━━━</span><span style=\"color: #3a3a3a; text-decoration-color: #3a3a3a\">╺━</span> <span style=\"color: #c0c0c0; text-decoration-color: #c0c0c0\">251/263</span> <span style=\"color: #8a8a8a; text-decoration-color: #8a8a8a\">0:00:07 • 0:00:01</span> <span style=\"color: #b2b2b2; text-decoration-color: #b2b2b2\">31.80it/s</span>                                   \n",
              "</pre>\n"
            ]
          },
          "metadata": {}
        },
        {
          "output_type": "display_data",
          "data": {
            "text/plain": [
              "Epoch 2    \u001b[38;2;72;129;173m━━━━━━━━━━\u001b[0m\u001b[38;2;72;129;173m╸\u001b[0m\u001b[38;5;237m━━━━━━━━━━━━━━━━━━━━━━\u001b[0m \u001b[37m180/563\u001b[0m \u001b[38;5;245m0:00:04 • 0:00:09\u001b[0m \u001b[38;5;249m44.68it/s\u001b[0m \u001b[37mloss: 0.0381 v_num: 0             \u001b[0m\n",
              "                                                                                 \u001b[37mrrp_validation: 0.998 rrp_train:  \u001b[0m\n",
              "                                                                                 \u001b[37m0.985                             \u001b[0m\n"
            ],
            "text/html": [
              "<pre style=\"white-space:pre;overflow-x:auto;line-height:normal;font-family:Menlo,'DejaVu Sans Mono',consolas,'Courier New',monospace\">Epoch 2    <span style=\"color: #4881ad; text-decoration-color: #4881ad\">━━━━━━━━━━╸</span><span style=\"color: #3a3a3a; text-decoration-color: #3a3a3a\">━━━━━━━━━━━━━━━━━━━━━━</span> <span style=\"color: #c0c0c0; text-decoration-color: #c0c0c0\">180/563</span> <span style=\"color: #8a8a8a; text-decoration-color: #8a8a8a\">0:00:04 • 0:00:09</span> <span style=\"color: #b2b2b2; text-decoration-color: #b2b2b2\">44.68it/s</span> <span style=\"color: #c0c0c0; text-decoration-color: #c0c0c0\">loss: 0.0381 v_num: 0             </span>\n",
              "                                                                                 <span style=\"color: #c0c0c0; text-decoration-color: #c0c0c0\">rrp_validation: 0.998 rrp_train:  </span>\n",
              "                                                                                 <span style=\"color: #c0c0c0; text-decoration-color: #c0c0c0\">0.985                             </span>\n",
              "</pre>\n"
            ]
          },
          "metadata": {}
        },
        {
          "output_type": "display_data",
          "data": {
            "text/plain": [
              "Epoch 3    \u001b[38;2;72;129;173m━━━━━━━━━━━━━\u001b[0m\u001b[38;2;72;129;173m╸\u001b[0m\u001b[38;5;237m━━━━━━━━━━━━━━━━━━━\u001b[0m \u001b[37m238/563\u001b[0m \u001b[38;5;245m0:00:05 • 0:00:08\u001b[0m \u001b[38;5;249m42.25it/s\u001b[0m \u001b[37mloss: 0.027 v_num: 0              \u001b[0m\n",
              "                                                                                 \u001b[37mrrp_validation: 0.998 rrp_train:  \u001b[0m\n",
              "                                                                                 \u001b[37m0.996                             \u001b[0m\n"
            ],
            "text/html": [
              "<pre style=\"white-space:pre;overflow-x:auto;line-height:normal;font-family:Menlo,'DejaVu Sans Mono',consolas,'Courier New',monospace\">Epoch 3    <span style=\"color: #4881ad; text-decoration-color: #4881ad\">━━━━━━━━━━━━━╸</span><span style=\"color: #3a3a3a; text-decoration-color: #3a3a3a\">━━━━━━━━━━━━━━━━━━━</span> <span style=\"color: #c0c0c0; text-decoration-color: #c0c0c0\">238/563</span> <span style=\"color: #8a8a8a; text-decoration-color: #8a8a8a\">0:00:05 • 0:00:08</span> <span style=\"color: #b2b2b2; text-decoration-color: #b2b2b2\">42.25it/s</span> <span style=\"color: #c0c0c0; text-decoration-color: #c0c0c0\">loss: 0.027 v_num: 0              </span>\n",
              "                                                                                 <span style=\"color: #c0c0c0; text-decoration-color: #c0c0c0\">rrp_validation: 0.998 rrp_train:  </span>\n",
              "                                                                                 <span style=\"color: #c0c0c0; text-decoration-color: #c0c0c0\">0.996                             </span>\n",
              "</pre>\n"
            ]
          },
          "metadata": {}
        },
        {
          "output_type": "display_data",
          "data": {
            "text/plain": [
              "Epoch 3    \u001b[38;2;72;129;173m━━━━━━━━━━━━━━━━━━━━━━━━━━\u001b[0m\u001b[38;2;72;129;173m╸\u001b[0m\u001b[38;5;237m━━━━━━\u001b[0m \u001b[37m460/563\u001b[0m \u001b[38;5;245m0:00:11 • 0:00:03\u001b[0m \u001b[38;5;249m40.19it/s\u001b[0m \u001b[37mloss: 0.0271 v_num: 0             \u001b[0m\n",
              "                                                                                 \u001b[37mrrp_validation: 0.998 rrp_train:  \u001b[0m\n",
              "                                                                                 \u001b[37m0.996                             \u001b[0m\n",
              "\u001b[37mValidation\u001b[0m \u001b[38;2;72;129;173m━━━━━━━━━━━━━━━━━━━━\u001b[0m\u001b[38;5;237m╺\u001b[0m\u001b[38;5;237m━━━━━━━━━━━━\u001b[0m \u001b[37m160/263\u001b[0m \u001b[38;5;245m0:00:04 • 0:00:03\u001b[0m \u001b[38;5;249m36.04it/s\u001b[0m                                   \n"
            ],
            "text/html": [
              "<pre style=\"white-space:pre;overflow-x:auto;line-height:normal;font-family:Menlo,'DejaVu Sans Mono',consolas,'Courier New',monospace\">Epoch 3    <span style=\"color: #4881ad; text-decoration-color: #4881ad\">━━━━━━━━━━━━━━━━━━━━━━━━━━╸</span><span style=\"color: #3a3a3a; text-decoration-color: #3a3a3a\">━━━━━━</span> <span style=\"color: #c0c0c0; text-decoration-color: #c0c0c0\">460/563</span> <span style=\"color: #8a8a8a; text-decoration-color: #8a8a8a\">0:00:11 • 0:00:03</span> <span style=\"color: #b2b2b2; text-decoration-color: #b2b2b2\">40.19it/s</span> <span style=\"color: #c0c0c0; text-decoration-color: #c0c0c0\">loss: 0.0271 v_num: 0             </span>\n",
              "                                                                                 <span style=\"color: #c0c0c0; text-decoration-color: #c0c0c0\">rrp_validation: 0.998 rrp_train:  </span>\n",
              "                                                                                 <span style=\"color: #c0c0c0; text-decoration-color: #c0c0c0\">0.996                             </span>\n",
              "<span style=\"color: #c0c0c0; text-decoration-color: #c0c0c0\">Validation</span> <span style=\"color: #4881ad; text-decoration-color: #4881ad\">━━━━━━━━━━━━━━━━━━━━</span><span style=\"color: #3a3a3a; text-decoration-color: #3a3a3a\">╺━━━━━━━━━━━━</span> <span style=\"color: #c0c0c0; text-decoration-color: #c0c0c0\">160/263</span> <span style=\"color: #8a8a8a; text-decoration-color: #8a8a8a\">0:00:04 • 0:00:03</span> <span style=\"color: #b2b2b2; text-decoration-color: #b2b2b2\">36.04it/s</span>                                   \n",
              "</pre>\n"
            ]
          },
          "metadata": {}
        },
        {
          "output_type": "display_data",
          "data": {
            "text/plain": [],
            "text/html": [
              "<pre style=\"white-space:pre;overflow-x:auto;line-height:normal;font-family:Menlo,'DejaVu Sans Mono',consolas,'Courier New',monospace\"></pre>\n"
            ]
          },
          "metadata": {}
        },
        {
          "output_type": "display_data",
          "data": {
            "text/plain": [
              "\n"
            ],
            "text/html": [
              "<pre style=\"white-space:pre;overflow-x:auto;line-height:normal;font-family:Menlo,'DejaVu Sans Mono',consolas,'Courier New',monospace\">\n",
              "</pre>\n"
            ]
          },
          "metadata": {}
        },
        {
          "output_type": "stream",
          "name": "stderr",
          "text": [
            "/usr/local/lib/python3.9/dist-packages/pytorch_lightning/trainer/trainer.py:1972: LightningDeprecationWarning: `Trainer.reset_train_val_dataloaders` has been deprecated in v1.7 and will be removed in v1.9. Use `Trainer.reset_{train,val}_dataloader` instead\n",
            "  rank_zero_deprecation(\n",
            "WARNING:root:Class VegEncoder is defined in a same file as training loop. It won't be possible to load it properly later.\n"
          ]
        }
      ]
    }
  ]
}